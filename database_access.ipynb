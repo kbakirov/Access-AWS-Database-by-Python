{
 "cells": [
  {
   "cell_type": "code",
   "execution_count": 40,
   "metadata": {},
   "outputs": [
    {
     "name": "stdout",
     "output_type": "stream",
     "text": [
      "('Kuanysh', 'Bakirov')\n"
     ]
    }
   ],
   "source": [
    "import mysql.connector\n",
    "\n",
    "mydb = mysql.connector.connect(\n",
    "  host=\"myfirstdb.cfzy1rhvscx0.us-east-1.rds.amazonaws.com\",\n",
    "  user=\"admin\",\n",
    "  passwd=\"123456789\",\n",
    "  database=\"MyFirstDB\"\n",
    ")\n",
    "\n",
    "mycursor = mydb.cursor()\n",
    "\n",
    "mycursor.execute(\"CREATE TABLE dsti_student (name_of_student VARCHAR(255), surname VARCHAR(255))\")\n",
    "\n",
    "sql = \"INSERT INTO dsti_student (name_of_student, surname) VALUES (%s, %s)\"\n",
    "val = (\"Kuanysh\", \"Bakirov\")\n",
    "\n",
    "mycursor.execute(sql, val)\n",
    "\n",
    "mydb.commit()\n",
    "\n",
    "mycursor.execute(\"SELECT * FROM dsti_student\")\n",
    "\n",
    "myresult = mycursor.fetchall()\n",
    "\n",
    "for x in myresult:\n",
    "  print(x)\n",
    "\n",
    "\n",
    "\n",
    "\n",
    "\n",
    "\n"
   ]
  },
  {
   "cell_type": "code",
   "execution_count": null,
   "metadata": {},
   "outputs": [],
   "source": []
  },
  {
   "cell_type": "code",
   "execution_count": null,
   "metadata": {},
   "outputs": [],
   "source": []
  }
 ],
 "metadata": {
  "kernelspec": {
   "display_name": "Python 3",
   "language": "python",
   "name": "python3"
  }
 },
 "nbformat": 4,
 "nbformat_minor": 2
}
